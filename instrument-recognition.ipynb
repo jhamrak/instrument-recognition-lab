{
 "cells": [
  {
   "cell_type": "code",
   "execution_count": 1,
   "metadata": {},
   "outputs": [
    {
     "name": "stderr",
     "output_type": "stream",
     "text": [
      "Using TensorFlow backend.\n"
     ]
    }
   ],
   "source": [
    "import librosa as lb\n",
    "import scipy\n",
    "import numpy as np\n",
    "import sklearn\n",
    "from sklearn.model_selection import train_test_split\n",
    "import os\n",
    "from pylab import plot, show, figure, imshow, xlim, ylim, title\n",
    "import matplotlib.pyplot as plt\n",
    "import keras\n",
    "from keras.utils import np_utils\n",
    "from keras import layers\n",
    "from keras import models"
   ]
  },
  {
   "cell_type": "code",
   "execution_count": 2,
   "metadata": {},
   "outputs": [],
   "source": [
    "#CONSTANTS\n",
    "\n",
    "DATA_DIR = \"smalldata/\"\n",
    "CATEGORY_COUNT = 2\n"
   ]
  },
  {
   "cell_type": "code",
   "execution_count": 3,
   "metadata": {},
   "outputs": [
    {
     "name": "stdout",
     "output_type": "stream",
     "text": [
      "banjo started\n",
      "banjo added\n",
      "cello started\n",
      "cello added\n",
      "FINISHED\n"
     ]
    }
   ],
   "source": [
    "\n",
    "\n",
    "class Instrument:\n",
    "    def __init__(self, name, audio, mfcc, category):\n",
    "        self.name = name  \n",
    "        self.audio = audio  \n",
    "        self.mfcc = mfcc\n",
    "        self.category = category\n",
    "\n",
    "instruments = []\n",
    "        \n",
    "i = 0\n",
    "for folder in os.listdir(DATA_DIR):\n",
    "    if \".\" not in folder:\n",
    "        new_instrument = Instrument(folder, [], [], i)\n",
    "        print(new_instrument.name, 'started')\n",
    "        for file_path in os.listdir(DATA_DIR + folder):\n",
    "            if file_path.endswith(\".mp3\"):\n",
    "                try:\n",
    "                    audio, sr = lb.load(DATA_DIR + folder + \"/\" + file_path)\n",
    "                    #audio, sr = lb.core.load(lb.util.example_audio_file())\n",
    "                    new_instrument.audio.append(audio)\n",
    "                except:\n",
    "                    print('Failed to add',folder + \"/\" + file_path + ' (' + str(len(new_instrument.audio)) + '. ' + new_instrument.name + ').')\n",
    "        instruments.append(new_instrument)   \n",
    "        print(new_instrument.name, 'added')\n",
    "        i+=1\n",
    "    \n",
    "print('FINISHED')"
   ]
  },
  {
   "cell_type": "code",
   "execution_count": 4,
   "metadata": {},
   "outputs": [],
   "source": [
    "for instrument in instruments:\n",
    "    instrument.mfcc = []\n",
    "    for audio in instrument.audio:\n",
    "            mfccs = lb.feature.mfcc(y=audio,n_mfcc=13)\n",
    "            mfccs = lb.util.normalize(mfccs)\n",
    "            scipy.linalg.norm(mfccs)\n",
    "           # mfccs = mfccs / 500\n",
    "            instrument.mfcc.append(mfccs.mean(axis=1))"
   ]
  },
  {
   "cell_type": "code",
   "execution_count": 5,
   "metadata": {},
   "outputs": [
    {
     "data": {
      "image/png": "[encoded data removed]",
      "text/plain": [
       "<Figure size 432x288 with 2 Axes>"
      ]
     },
     "metadata": {
      "needs_background": "light"
     },
     "output_type": "display_data"
    }
   ],
   "source": [
    "imshow(mfccs, aspect = 'auto', origin='lower', interpolation='none')\n",
    "plt.colorbar()\n",
    "plt.title('MFCC')\n",
    "plt.tight_layout()\n",
    "plt.show()"
   ]
  },
  {
   "cell_type": "code",
   "execution_count": 6,
   "metadata": {},
   "outputs": [
    {
     "data": {
      "text/plain": [
       "'w = Windowing(type = \\'hann\\')\\nspectrum = Spectrum()  # FFT() would return the complex FFT, here we just want the magnitude spectrum\\nmfcc = MFCC()\\n\\nfor instrument in instruments:\\n    instrument.mfcc = []\\n    for audio in instrument.audio:\\n            mfccs = []\\n            melbands = []\\n            melbands_log = []\\n            for frame in FrameGenerator(audio, frameSize=1024, hopSize=512, startFromZero=True):\\n                    mfcc_bands, mfcc_coeffs = mfcc(spectrum(w(frame)))\\n                    mfccs.append(mfcc_coeffs)\\n                    melbands.append(mfcc_bands)\\n            mfccs = essentia.array(mfccs).mean(axis=0)\\n            mfccs = mfccs / 500\\n            instrument.mfcc.append(mfccs)\\n   # melbands_log.append(logNorm(mfcc_bands))\\n\\n# transpose to have it in a better shape\\n# we need to convert the list to an essentia.array first (== numpy.array of floats)\\n\\nmelbands = essentia.array(melbands).T\\nmelbands_log = essentia.array(melbands_log).T\\n\\n# and plot\\nimshow(melbands[:,:], aspect = \\'auto\\', origin=\\'lower\\', interpolation=\\'none\\')\\nplt.title(\"Mel band spectral energies in frames\")\\nshow()\\n\\n#imshow(melbands_log[:,:], aspect = \\'auto\\', origin=\\'lower\\', interpolation=\\'none\\')\\n#plt.title(\"Log-normalized mel band spectral energies in frames\")\\n#show()\\n\\n#imshow(mfccs[1:,:], aspect=\\'auto\\', origin=\\'lower\\', interpolation=\\'none\\')\\n#plt.title(\"MFCCs in frames\")\\n#show()'"
      ]
     },
     "execution_count": 6,
     "metadata": {},
     "output_type": "execute_result"
    }
   ],
   "source": [
    "'''w = Windowing(type = 'hann')\n",
    "spectrum = Spectrum()  # FFT() would return the complex FFT, here we just want the magnitude spectrum\n",
    "mfcc = MFCC()\n",
    "\n",
    "for instrument in instruments:\n",
    "    instrument.mfcc = []\n",
    "    for audio in instrument.audio:\n",
    "            mfccs = []\n",
    "            melbands = []\n",
    "            melbands_log = []\n",
    "            for frame in FrameGenerator(audio, frameSize=1024, hopSize=512, startFromZero=True):\n",
    "                    mfcc_bands, mfcc_coeffs = mfcc(spectrum(w(frame)))\n",
    "                    mfccs.append(mfcc_coeffs)\n",
    "                    melbands.append(mfcc_bands)\n",
    "            mfccs = essentia.array(mfccs).mean(axis=0)\n",
    "            mfccs = mfccs / 500\n",
    "            instrument.mfcc.append(mfccs)\n",
    "   # melbands_log.append(logNorm(mfcc_bands))\n",
    "\n",
    "# transpose to have it in a better shape\n",
    "# we need to convert the list to an essentia.array first (== numpy.array of floats)\n",
    "\n",
    "melbands = essentia.array(melbands).T\n",
    "melbands_log = essentia.array(melbands_log).T\n",
    "\n",
    "# and plot\n",
    "imshow(melbands[:,:], aspect = 'auto', origin='lower', interpolation='none')\n",
    "plt.title(\"Mel band spectral energies in frames\")\n",
    "show()\n",
    "\n",
    "#imshow(melbands_log[:,:], aspect = 'auto', origin='lower', interpolation='none')\n",
    "#plt.title(\"Log-normalized mel band spectral energies in frames\")\n",
    "#show()\n",
    "\n",
    "#imshow(mfccs[1:,:], aspect='auto', origin='lower', interpolation='none')\n",
    "#plt.title(\"MFCCs in frames\")\n",
    "#show()'''"
   ]
  },
  {
   "cell_type": "code",
   "execution_count": 7,
   "metadata": {},
   "outputs": [
    {
     "data": {
      "text/plain": [
       "(13, 68)"
      ]
     },
     "execution_count": 7,
     "metadata": {},
     "output_type": "execute_result"
    }
   ],
   "source": [
    "mfccs.shape"
   ]
  },
  {
   "cell_type": "code",
   "execution_count": 8,
   "metadata": {},
   "outputs": [
    {
     "name": "stdout",
     "output_type": "stream",
     "text": [
      "4\n",
      "20\n"
     ]
    }
   ],
   "source": [
    "\n",
    "for instrument in instruments:\n",
    "    print(len(instrument.mfcc))"
   ]
  },
  {
   "cell_type": "code",
   "execution_count": 9,
   "metadata": {},
   "outputs": [
    {
     "data": {
      "image/png": "[encoded data removed]",
      "text/plain": [
       "<Figure size 1440x720 with 2 Axes>"
      ]
     },
     "metadata": {
      "needs_background": "light"
     },
     "output_type": "display_data"
    }
   ],
   "source": [
    "\n",
    "fig = plt.figure(figsize=(20,10))\n",
    "i = 0\n",
    "for instrument in instruments:\n",
    "    i += 1\n",
    "    fig.add_subplot(4,2,i)\n",
    "    plot(instrument.mfcc[3])\n",
    "    #ylim(-1,1)\n",
    "show()"
   ]
  },
  {
   "cell_type": "code",
   "execution_count": 10,
   "metadata": {
    "scrolled": true
   },
   "outputs": [
    {
     "name": "stdout",
     "output_type": "stream",
     "text": [
      "(24, 13)\n",
      "24\n",
      "13\n",
      "(24, 13)\n"
     ]
    }
   ],
   "source": [
    "X = []\n",
    "y = []\n",
    "\n",
    "for instrument in instruments:\n",
    "    i = 0\n",
    "    for mfcc in instrument.mfcc:\n",
    "        i += 1\n",
    "        X.append(mfcc)\n",
    "        y.append(instrument.category)\n",
    "\n",
    "X = np.array(X) \n",
    "print(X.shape)\n",
    "X = X.astype('float32')\n",
    "y = np.array(y)\n",
    "\n",
    "print(len(X))\n",
    "print(len(X[0]))\n",
    "print(X.shape)\n",
    "# Test Train Split\n",
    "X_train, X_test, y_train, y_test = train_test_split(X, y)"
   ]
  },
  {
   "cell_type": "code",
   "execution_count": 11,
   "metadata": {},
   "outputs": [
    {
     "name": "stdout",
     "output_type": "stream",
     "text": [
      "18\n",
      "18\n",
      "0\n",
      "18\n",
      "(18, 13)\n"
     ]
    }
   ],
   "source": [
    "\n",
    "\n",
    "\n",
    "print(len(X_train))\n",
    "print(len(y_train))\n",
    "print(y_train[1])\n",
    "y_train = np_utils.to_categorical(y_train,CATEGORY_COUNT)\n",
    "y_test = np_utils.to_categorical(y_test,CATEGORY_COUNT)\n",
    "print(len(X_train))\n",
    "print(X_train.shape)"
   ]
  },
  {
   "cell_type": "code",
   "execution_count": 12,
   "metadata": {},
   "outputs": [
    {
     "name": "stdout",
     "output_type": "stream",
     "text": [
      "WARNING:tensorflow:From C:\\Users\\user\\Anaconda3\\lib\\site-packages\\tensorflow\\python\\framework\\op_def_library.py:263: colocate_with (from tensorflow.python.framework.ops) is deprecated and will be removed in a future version.\n",
      "Instructions for updating:\n",
      "Colocations handled automatically by placer.\n"
     ]
    }
   ],
   "source": [
    "model = models.Sequential()\n",
    "#model.add(layers.Conv2D(filters=8,kernel_size=(3,3), input_shape=(3411,13,1),activation='relu'))\n",
    "#model.add(layers.AveragePooling2D())\n",
    "#model.add(layers.Conv2D(filters=16,kernel_size=(3,3), activation='relu'))\n",
    "#model.add(layers.AveragePooling2D())\n",
    "#model.add(layers.Flatten())\n",
    "model.add(layers.Dense(units=512, activation='relu', input_shape=(X_train.shape[1],)))\n",
    "model.add(layers.Dense(units=256, activation='relu'))\n",
    "model.add(layers.Dense(units=100, activation='relu'))\n",
    "model.add(layers.Dense(units=CATEGORY_COUNT, activation='sigmoid'))\n",
    "\n",
    "model.compile(loss='categorical_crossentropy',\n",
    "              optimizer='Adam',\n",
    "              metrics=['acc'])"
   ]
  },
  {
   "cell_type": "code",
   "execution_count": 13,
   "metadata": {},
   "outputs": [
    {
     "data": {
      "text/plain": [
       "dtype('float32')"
      ]
     },
     "execution_count": 13,
     "metadata": {},
     "output_type": "execute_result"
    }
   ],
   "source": [
    "y_train.dtype"
   ]
  },
  {
   "cell_type": "code",
   "execution_count": 14,
   "metadata": {},
   "outputs": [
    {
     "name": "stdout",
     "output_type": "stream",
     "text": [
      "WARNING:tensorflow:From C:\\Users\\user\\Anaconda3\\lib\\site-packages\\tensorflow\\python\\ops\\math_ops.py:3066: to_int32 (from tensorflow.python.ops.math_ops) is deprecated and will be removed in a future version.\n",
      "Instructions for updating:\n",
      "Use tf.cast instead.\n",
      "Epoch 1/70\n",
      "18/18 [==============================] - 1s 36ms/step - loss: 0.6714 - acc: 0.8333\n",
      "Epoch 2/70\n",
      "18/18 [==============================] - 0s 167us/step - loss: 0.6381 - acc: 0.8333\n",
      "Epoch 3/70\n",
      "18/18 [==============================] - 0s 222us/step - loss: 0.6061 - acc: 0.8333\n",
      "Epoch 4/70\n",
      "18/18 [==============================] - 0s 278us/step - loss: 0.5760 - acc: 0.8333\n",
      "Epoch 5/70\n",
      "18/18 [==============================] - 0s 220us/step - loss: 0.5485 - acc: 0.8333\n",
      "Epoch 6/70\n",
      "18/18 [==============================] - 0s 278us/step - loss: 0.5208 - acc: 0.8333\n",
      "Epoch 7/70\n",
      "18/18 [==============================] - 0s 221us/step - loss: 0.4943 - acc: 0.8333\n",
      "Epoch 8/70\n",
      "18/18 [==============================] - 0s 278us/step - loss: 0.4698 - acc: 0.8333\n",
      "Epoch 9/70\n",
      "18/18 [==============================] - 0s 333us/step - loss: 0.4483 - acc: 0.8333\n",
      "Epoch 10/70\n",
      "18/18 [==============================] - 0s 278us/step - loss: 0.4313 - acc: 0.8333\n",
      "Epoch 11/70\n",
      "18/18 [==============================] - 0s 279us/step - loss: 0.4198 - acc: 0.8333\n",
      "Epoch 12/70\n",
      "18/18 [==============================] - 0s 222us/step - loss: 0.4142 - acc: 0.8333\n",
      "Epoch 13/70\n",
      "18/18 [==============================] - 0s 778us/step - loss: 0.4138 - acc: 0.8333\n",
      "Epoch 14/70\n",
      "18/18 [==============================] - 0s 222us/step - loss: 0.4163 - acc: 0.8333\n",
      "Epoch 15/70\n",
      "18/18 [==============================] - 0s 445us/step - loss: 0.4186 - acc: 0.8333\n",
      "Epoch 16/70\n",
      "18/18 [==============================] - 0s 221us/step - loss: 0.4183 - acc: 0.8333\n",
      "Epoch 17/70\n",
      "18/18 [==============================] - 0s 278us/step - loss: 0.4145 - acc: 0.8333\n",
      "Epoch 18/70\n",
      "18/18 [==============================] - 0s 389us/step - loss: 0.4079 - acc: 0.8333\n",
      "Epoch 19/70\n",
      "18/18 [==============================] - 0s 167us/step - loss: 0.3993 - acc: 0.8333\n",
      "Epoch 20/70\n",
      "18/18 [==============================] - 0s 505us/step - loss: 0.3905 - acc: 0.8333\n",
      "Epoch 21/70\n",
      "18/18 [==============================] - 0s 167us/step - loss: 0.3824 - acc: 0.8333\n",
      "Epoch 22/70\n",
      "18/18 [==============================] - 0s 334us/step - loss: 0.3755 - acc: 0.8333\n",
      "Epoch 23/70\n",
      "18/18 [==============================] - 0s 167us/step - loss: 0.3702 - acc: 0.8333\n",
      "Epoch 24/70\n",
      "18/18 [==============================] - 0s 167us/step - loss: 0.3658 - acc: 0.8333\n",
      "Epoch 25/70\n",
      "18/18 [==============================] - 0s 334us/step - loss: 0.3616 - acc: 0.8333\n",
      "Epoch 26/70\n",
      "18/18 [==============================] - 0s 222us/step - loss: 0.3571 - acc: 0.8333\n",
      "Epoch 27/70\n",
      "18/18 [==============================] - 0s 278us/step - loss: 0.3513 - acc: 0.8333\n",
      "Epoch 28/70\n",
      "18/18 [==============================] - 0s 333us/step - loss: 0.3439 - acc: 0.8333\n",
      "Epoch 29/70\n",
      "18/18 [==============================] - 0s 279us/step - loss: 0.3353 - acc: 0.8333\n",
      "Epoch 30/70\n",
      "18/18 [==============================] - 0s 167us/step - loss: 0.3261 - acc: 0.8333\n",
      "Epoch 31/70\n",
      "18/18 [==============================] - 0s 278us/step - loss: 0.3167 - acc: 0.8333\n",
      "Epoch 32/70\n",
      "18/18 [==============================] - 0s 333us/step - loss: 0.3071 - acc: 0.8333\n",
      "Epoch 33/70\n",
      "18/18 [==============================] - 0s 278us/step - loss: 0.2979 - acc: 0.8333\n",
      "Epoch 34/70\n",
      "18/18 [==============================] - 0s 335us/step - loss: 0.2885 - acc: 0.8333\n",
      "Epoch 35/70\n",
      "18/18 [==============================] - 0s 222us/step - loss: 0.2788 - acc: 0.8333\n",
      "Epoch 36/70\n",
      "18/18 [==============================] - 0s 278us/step - loss: 0.2685 - acc: 0.8333\n",
      "Epoch 37/70\n",
      "18/18 [==============================] - 0s 167us/step - loss: 0.2575 - acc: 0.8333\n",
      "Epoch 38/70\n",
      "18/18 [==============================] - 0s 167us/step - loss: 0.2457 - acc: 0.8333\n",
      "Epoch 39/70\n",
      "18/18 [==============================] - 0s 336us/step - loss: 0.2333 - acc: 0.8333\n",
      "Epoch 40/70\n",
      "18/18 [==============================] - 0s 167us/step - loss: 0.2208 - acc: 0.8333\n",
      "Epoch 41/70\n",
      "18/18 [==============================] - 0s 278us/step - loss: 0.2088 - acc: 0.8333\n",
      "Epoch 42/70\n",
      "18/18 [==============================] - 0s 167us/step - loss: 0.1972 - acc: 0.8333\n",
      "Epoch 43/70\n",
      "18/18 [==============================] - 0s 278us/step - loss: 0.1859 - acc: 0.8333\n",
      "Epoch 44/70\n",
      "18/18 [==============================] - 0s 389us/step - loss: 0.1745 - acc: 0.8889\n",
      "Epoch 45/70\n",
      "18/18 [==============================] - 0s 167us/step - loss: 0.1632 - acc: 0.9444\n",
      "Epoch 46/70\n",
      "18/18 [==============================] - 0s 333us/step - loss: 0.1524 - acc: 0.9444\n",
      "Epoch 47/70\n",
      "18/18 [==============================] - 0s 166us/step - loss: 0.1424 - acc: 1.0000\n",
      "Epoch 48/70\n",
      "18/18 [==============================] - 0s 167us/step - loss: 0.1335 - acc: 1.0000\n",
      "Epoch 49/70\n",
      "18/18 [==============================] - 0s 389us/step - loss: 0.1253 - acc: 1.0000\n",
      "Epoch 50/70\n",
      "18/18 [==============================] - 0s 278us/step - loss: 0.1177 - acc: 1.0000\n",
      "Epoch 51/70\n",
      "18/18 [==============================] - 0s 278us/step - loss: 0.1107 - acc: 1.0000\n",
      "Epoch 52/70\n",
      "18/18 [==============================] - 0s 166us/step - loss: 0.1042 - acc: 1.0000\n",
      "Epoch 53/70\n",
      "18/18 [==============================] - 0s 278us/step - loss: 0.0982 - acc: 1.0000\n",
      "Epoch 54/70\n",
      "18/18 [==============================] - 0s 279us/step - loss: 0.0928 - acc: 1.0000\n",
      "Epoch 55/70\n",
      "18/18 [==============================] - 0s 167us/step - loss: 0.0876 - acc: 1.0000\n",
      "Epoch 56/70\n",
      "18/18 [==============================] - 0s 166us/step - loss: 0.0826 - acc: 1.0000\n",
      "Epoch 57/70\n",
      "18/18 [==============================] - 0s 223us/step - loss: 0.0777 - acc: 1.0000\n",
      "Epoch 58/70\n",
      "18/18 [==============================] - 0s 167us/step - loss: 0.0729 - acc: 1.0000\n",
      "Epoch 59/70\n",
      "18/18 [==============================] - 0s 278us/step - loss: 0.0683 - acc: 1.0000\n",
      "Epoch 60/70\n",
      "18/18 [==============================] - 0s 222us/step - loss: 0.0637 - acc: 1.0000\n",
      "Epoch 61/70\n",
      "18/18 [==============================] - 0s 222us/step - loss: 0.0592 - acc: 1.0000\n",
      "Epoch 62/70\n",
      "18/18 [==============================] - 0s 278us/step - loss: 0.0547 - acc: 1.0000\n",
      "Epoch 63/70\n",
      "18/18 [==============================] - 0s 334us/step - loss: 0.0503 - acc: 1.0000\n",
      "Epoch 64/70\n",
      "18/18 [==============================] - 0s 222us/step - loss: 0.0458 - acc: 1.0000\n",
      "Epoch 65/70\n",
      "18/18 [==============================] - 0s 167us/step - loss: 0.0413 - acc: 1.0000\n",
      "Epoch 66/70\n",
      "18/18 [==============================] - 0s 222us/step - loss: 0.0369 - acc: 1.0000\n",
      "Epoch 67/70\n",
      "18/18 [==============================] - 0s 223us/step - loss: 0.0327 - acc: 1.0000\n",
      "Epoch 68/70\n",
      "18/18 [==============================] - 0s 167us/step - loss: 0.0288 - acc: 1.0000\n",
      "Epoch 69/70\n",
      "18/18 [==============================] - 0s 223us/step - loss: 0.0250 - acc: 1.0000\n",
      "Epoch 70/70\n",
      "18/18 [==============================] - 0s 167us/step - loss: 0.0216 - acc: 1.0000\n"
     ]
    }
   ],
   "source": [
    "\n",
    "history = model.fit(X_train, y_train, epochs=70, batch_size=128) "
   ]
  },
  {
   "cell_type": "code",
   "execution_count": 15,
   "metadata": {},
   "outputs": [
    {
     "name": "stdout",
     "output_type": "stream",
     "text": [
      "Model: \"sequential_1\"\n",
      "_________________________________________________________________\n",
      "Layer (type)                 Output Shape              Param #   \n",
      "=================================================================\n",
      "dense_1 (Dense)              (None, 512)               7168      \n",
      "_________________________________________________________________\n",
      "dense_2 (Dense)              (None, 256)               131328    \n",
      "_________________________________________________________________\n",
      "dense_3 (Dense)              (None, 100)               25700     \n",
      "_________________________________________________________________\n",
      "dense_4 (Dense)              (None, 2)                 202       \n",
      "=================================================================\n",
      "Total params: 164,398\n",
      "Trainable params: 164,398\n",
      "Non-trainable params: 0\n",
      "_________________________________________________________________\n"
     ]
    }
   ],
   "source": [
    "model.summary()"
   ]
  },
  {
   "cell_type": "code",
   "execution_count": 16,
   "metadata": {},
   "outputs": [
    {
     "name": "stdout",
     "output_type": "stream",
     "text": [
      "6/6 [==============================] - 0s 5ms/step\n",
      "Test loss: 0.019884534180164337\n",
      "Test accuracy: 100.00%\n"
     ]
    }
   ],
   "source": [
    "loss, acc = model.evaluate(X_test, y_test)\n",
    "print('Test loss: {}'.format(loss))\n",
    "print('Test accuracy: {:.2%}'.format(acc))"
   ]
  },
  {
   "cell_type": "code",
   "execution_count": 17,
   "metadata": {},
   "outputs": [
    {
     "name": "stdout",
     "output_type": "stream",
     "text": [
      "Predicted=0\n",
      "Predicted=0\n",
      "Predicted=0\n",
      "Predicted=0\n",
      "Predicted=1\n",
      "Predicted=1\n",
      "Predicted=1\n",
      "Predicted=1\n",
      "Predicted=1\n",
      "Predicted=1\n",
      "Predicted=1\n",
      "Predicted=1\n",
      "Predicted=1\n",
      "Predicted=1\n",
      "Predicted=1\n",
      "Predicted=1\n",
      "Predicted=1\n",
      "Predicted=1\n",
      "Predicted=1\n",
      "Predicted=1\n",
      "Predicted=1\n",
      "Predicted=1\n",
      "Predicted=1\n",
      "Predicted=1\n"
     ]
    }
   ],
   "source": [
    "new = model.predict_classes(X)\n",
    "for i in range(len(X)):\n",
    "\tprint(\"Predicted=%s\" % ( new[i]))"
   ]
  }
 ],
 "metadata": {
  "kernelspec": {
   "display_name": "Python 3",
   "language": "python",
   "name": "python3"
  },
  "language_info": {
   "codemirror_mode": {
    "name": "ipython",
    "version": 3
   },
   "file_extension": ".py",
   "mimetype": "text/x-python",
   "name": "python",
   "nbconvert_exporter": "python",
   "pygments_lexer": "ipython3",
   "version": "3.7.3"
  }
 },
 "nbformat": 4,
 "nbformat_minor": 2
}
